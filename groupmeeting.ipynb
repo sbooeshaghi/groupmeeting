{
 "cells": [
  {
   "cell_type": "code",
   "execution_count": 1,
   "id": "feb0ff49-3971-4cb5-ac0c-e411dd3dcf52",
   "metadata": {},
   "outputs": [
    {
     "name": "stdout",
     "output_type": "stream",
     "text": [
      "Python 3.9.5\n"
     ]
    }
   ],
   "source": [
    "!python --version"
   ]
  },
  {
   "cell_type": "code",
   "execution_count": 2,
   "id": "0f22b576-ed9e-4c0e-8c9b-fbf20ee8944c",
   "metadata": {},
   "outputs": [],
   "source": [
    "from kb_python.utils import import_matrix_as_anndata"
   ]
  },
  {
   "cell_type": "code",
   "execution_count": 3,
   "id": "44e8acc5-c1e1-4cff-b9a4-afbb79cb359c",
   "metadata": {},
   "outputs": [],
   "source": [
    "adata = import_matrix_as_anndata(\"./kb_out/genes.mtx\", \"./kb_out/genes.barcodes.txt\", \"./kb_out/genes.genes.txt\")"
   ]
  },
  {
   "cell_type": "code",
   "execution_count": 4,
   "id": "80aaf28d-456d-4d7a-a9e8-7ddf824018b6",
   "metadata": {},
   "outputs": [
    {
     "data": {
      "text/plain": [
       "AnnData object with n_obs × n_vars = 1266268 × 33538"
      ]
     },
     "execution_count": 4,
     "metadata": {},
     "output_type": "execute_result"
    }
   ],
   "source": [
    "adata"
   ]
  },
  {
   "cell_type": "code",
   "execution_count": 8,
   "id": "6c654944-3ae7-4b8b-9ce6-fe4e7258850f",
   "metadata": {},
   "outputs": [
    {
     "data": {
      "text/plain": [
       "(2, 33538)"
      ]
     },
     "execution_count": 8,
     "metadata": {},
     "output_type": "execute_result"
    }
   ],
   "source": [
    "adata.X[0:2].todense().shape"
   ]
  },
  {
   "cell_type": "code",
   "execution_count": 11,
   "id": "e8450b15-1942-4e2b-b68a-3dc696b8f4e2",
   "metadata": {},
   "outputs": [
    {
     "data": {
      "text/plain": [
       "(1266268, 1)"
      ]
     },
     "execution_count": 11,
     "metadata": {},
     "output_type": "execute_result"
    }
   ],
   "source": [
    "adata.X.sum(axis=1).shape"
   ]
  },
  {
   "cell_type": "code",
   "execution_count": 13,
   "id": "42c99fa9-647f-4b11-8990-2c6b985155b9",
   "metadata": {},
   "outputs": [],
   "source": [
    "adata.obs[\"sum_counts\"] = adata.X.sum(axis=1)"
   ]
  },
  {
   "cell_type": "code",
   "execution_count": 14,
   "id": "cf62d327-a0c3-4c1f-8d48-8131a75edc77",
   "metadata": {},
   "outputs": [
    {
     "data": {
      "text/html": [
       "<div>\n",
       "<style scoped>\n",
       "    .dataframe tbody tr th:only-of-type {\n",
       "        vertical-align: middle;\n",
       "    }\n",
       "\n",
       "    .dataframe tbody tr th {\n",
       "        vertical-align: top;\n",
       "    }\n",
       "\n",
       "    .dataframe thead th {\n",
       "        text-align: right;\n",
       "    }\n",
       "</style>\n",
       "<table border=\"1\" class=\"dataframe\">\n",
       "  <thead>\n",
       "    <tr style=\"text-align: right;\">\n",
       "      <th></th>\n",
       "      <th>sum_counts</th>\n",
       "    </tr>\n",
       "    <tr>\n",
       "      <th>barcode</th>\n",
       "      <th></th>\n",
       "    </tr>\n",
       "  </thead>\n",
       "  <tbody>\n",
       "    <tr>\n",
       "      <th>AAACCCAAGAAACACT</th>\n",
       "      <td>1.0</td>\n",
       "    </tr>\n",
       "    <tr>\n",
       "      <th>AAACCCAAGAAACCAT</th>\n",
       "      <td>1.0</td>\n",
       "    </tr>\n",
       "    <tr>\n",
       "      <th>AAACCCAAGAAACCCG</th>\n",
       "      <td>1.0</td>\n",
       "    </tr>\n",
       "    <tr>\n",
       "      <th>AAACCCAAGAAACTAC</th>\n",
       "      <td>1.0</td>\n",
       "    </tr>\n",
       "    <tr>\n",
       "      <th>AAACCCAAGAAACTCA</th>\n",
       "      <td>73.0</td>\n",
       "    </tr>\n",
       "    <tr>\n",
       "      <th>...</th>\n",
       "      <td>...</td>\n",
       "    </tr>\n",
       "    <tr>\n",
       "      <th>TTTGTTGTCTTGGATG</th>\n",
       "      <td>1.0</td>\n",
       "    </tr>\n",
       "    <tr>\n",
       "      <th>TTTGTTGTCTTGGTCC</th>\n",
       "      <td>1.0</td>\n",
       "    </tr>\n",
       "    <tr>\n",
       "      <th>TTTGTTGTCTTTACAC</th>\n",
       "      <td>1.0</td>\n",
       "    </tr>\n",
       "    <tr>\n",
       "      <th>TTTGTTGTCTTTGCGC</th>\n",
       "      <td>20.0</td>\n",
       "    </tr>\n",
       "    <tr>\n",
       "      <th>TTTGTTGTCTTTGCTA</th>\n",
       "      <td>1.0</td>\n",
       "    </tr>\n",
       "  </tbody>\n",
       "</table>\n",
       "<p>1266268 rows × 1 columns</p>\n",
       "</div>"
      ],
      "text/plain": [
       "                  sum_counts\n",
       "barcode                     \n",
       "AAACCCAAGAAACACT         1.0\n",
       "AAACCCAAGAAACCAT         1.0\n",
       "AAACCCAAGAAACCCG         1.0\n",
       "AAACCCAAGAAACTAC         1.0\n",
       "AAACCCAAGAAACTCA        73.0\n",
       "...                      ...\n",
       "TTTGTTGTCTTGGATG         1.0\n",
       "TTTGTTGTCTTGGTCC         1.0\n",
       "TTTGTTGTCTTTACAC         1.0\n",
       "TTTGTTGTCTTTGCGC        20.0\n",
       "TTTGTTGTCTTTGCTA         1.0\n",
       "\n",
       "[1266268 rows x 1 columns]"
      ]
     },
     "execution_count": 14,
     "metadata": {},
     "output_type": "execute_result"
    }
   ],
   "source": [
    "adata.obs"
   ]
  },
  {
   "cell_type": "code",
   "execution_count": 18,
   "id": "f3bf117b-adf9-4a6b-abb0-6dc35b4af5cc",
   "metadata": {},
   "outputs": [],
   "source": [
    "new_adata = adata[(adata.obs.sum_counts>10).values]"
   ]
  },
  {
   "cell_type": "code",
   "execution_count": 19,
   "id": "f5c14b80-ee47-4768-a0d5-e2935e0f975f",
   "metadata": {},
   "outputs": [
    {
     "data": {
      "text/plain": [
       "View of AnnData object with n_obs × n_vars = 114924 × 33538\n",
       "    obs: 'sum_counts'"
      ]
     },
     "execution_count": 19,
     "metadata": {},
     "output_type": "execute_result"
    }
   ],
   "source": [
    "new_adata"
   ]
  },
  {
   "cell_type": "code",
   "execution_count": null,
   "id": "14183922-a816-4933-8a1d-8461171f37f6",
   "metadata": {},
   "outputs": [],
   "source": []
  }
 ],
 "metadata": {
  "kernelspec": {
   "display_name": "Python 3",
   "language": "python",
   "name": "python3"
  },
  "language_info": {
   "codemirror_mode": {
    "name": "ipython",
    "version": 3
   },
   "file_extension": ".py",
   "mimetype": "text/x-python",
   "name": "python",
   "nbconvert_exporter": "python",
   "pygments_lexer": "ipython3",
   "version": "3.9.5"
  }
 },
 "nbformat": 4,
 "nbformat_minor": 5
}
