{
  "nbformat": 4,
  "nbformat_minor": 5,
  "metadata": {
    "kernelspec": {
      "display_name": "Python 3",
      "language": "python",
      "name": "python3"
    },
    "language_info": {
      "codemirror_mode": {
        "name": "ipython",
        "version": 3
      },
      "file_extension": ".py",
      "mimetype": "text/x-python",
      "name": "python",
      "nbconvert_exporter": "python",
      "pygments_lexer": "ipython3",
      "version": "3.9.5"
    },
    "colab": {
      "name": "groupmeeting.ipynb",
      "provenance": [],
      "include_colab_link": true
    }
  },
  "cells": [
    {
      "cell_type": "markdown",
      "metadata": {
        "id": "view-in-github",
        "colab_type": "text"
      },
      "source": [
        "<a href=\"https://colab.research.google.com/github/sbooeshaghi/groupmeeting/blob/master/groupmeeting.ipynb\" target=\"_parent\"><img src=\"https://colab.research.google.com/assets/colab-badge.svg\" alt=\"Open In Colab\"/></a>"
      ]
    },
    {
      "cell_type": "code",
      "metadata": {
        "id": "twsduiFNnmjZ",
        "outputId": "d9eaa925-ad93-4ac8-84ba-13420becc0d6",
        "colab": {
          "base_uri": "https://localhost:8080/"
        }
      },
      "source": [
        "!git clone https://github.com/sbooeshaghi/groupmeeting.git"
      ],
      "id": "twsduiFNnmjZ",
      "execution_count": 1,
      "outputs": [
        {
          "output_type": "stream",
          "text": [
            "Cloning into 'groupmeeting'...\n",
            "remote: Enumerating objects: 10, done.\u001b[K\n",
            "remote: Counting objects: 100% (10/10), done.\u001b[K\n",
            "remote: Compressing objects: 100% (9/9), done.\u001b[K\n",
            "remote: Total 10 (delta 0), reused 10 (delta 0), pack-reused 0\u001b[K\n",
            "Unpacking objects: 100% (10/10), done.\n"
          ],
          "name": "stdout"
        }
      ]
    },
    {
      "cell_type": "code",
      "metadata": {
        "id": "tK1HsXoznzbI"
      },
      "source": [
        "!gunzip /content/groupmeeting/kb_out/*.gz"
      ],
      "id": "tK1HsXoznzbI",
      "execution_count": 2,
      "outputs": []
    },
    {
      "cell_type": "code",
      "metadata": {
        "id": "Nf3zXIIIoBcV"
      },
      "source": [
        "!cat /content/groupmeeting/kb_out/xaa /content/groupmeeting/kb_out/xab > /content/groupmeeting/kb_out/matrix.mtx"
      ],
      "id": "Nf3zXIIIoBcV",
      "execution_count": 4,
      "outputs": []
    },
    {
      "cell_type": "code",
      "metadata": {
        "id": "feb0ff49-3971-4cb5-ac0c-e411dd3dcf52",
        "outputId": "7a3f78ca-807b-4007-87b4-13f5f7dc4a15",
        "colab": {
          "base_uri": "https://localhost:8080/"
        }
      },
      "source": [
        "!python --version"
      ],
      "id": "feb0ff49-3971-4cb5-ac0c-e411dd3dcf52",
      "execution_count": 5,
      "outputs": [
        {
          "output_type": "stream",
          "text": [
            "Python 3.7.10\n"
          ],
          "name": "stdout"
        }
      ]
    },
    {
      "cell_type": "code",
      "metadata": {
        "id": "x-rPl36coeA3",
        "outputId": "7b1d8832-9280-47ad-9322-2d60e36c46c9",
        "colab": {
          "base_uri": "https://localhost:8080/"
        }
      },
      "source": [
        "!pip install --quiet kb-python"
      ],
      "id": "x-rPl36coeA3",
      "execution_count": 8,
      "outputs": [
        {
          "output_type": "stream",
          "text": [
            "\u001b[K     |████████████████████████████████| 133kB 32.7MB/s \n",
            "\u001b[K     |████████████████████████████████| 51kB 5.4MB/s \n",
            "\u001b[K     |████████████████████████████████| 51.7MB 49kB/s \n",
            "\u001b[K     |████████████████████████████████| 19.1MB 166kB/s \n",
            "\u001b[K     |████████████████████████████████| 10.3MB 18.7MB/s \n",
            "\u001b[K     |████████████████████████████████| 112kB 45.2MB/s \n",
            "\u001b[K     |████████████████████████████████| 9.9MB 18.6MB/s \n",
            "\u001b[K     |████████████████████████████████| 276kB 47.3MB/s \n",
            "\u001b[?25h  Installing build dependencies ... \u001b[?25l\u001b[?25hdone\n",
            "  Getting requirements to build wheel ... \u001b[?25l\u001b[?25hdone\n",
            "    Preparing wheel metadata ... \u001b[?25l\u001b[?25hdone\n",
            "\u001b[K     |████████████████████████████████| 81kB 10.3MB/s \n",
            "\u001b[K     |████████████████████████████████| 1.2MB 33.7MB/s \n",
            "\u001b[K     |████████████████████████████████| 71kB 8.9MB/s \n",
            "\u001b[?25h  Building wheel for pyseq-align (PEP 517) ... \u001b[?25l\u001b[?25hdone\n",
            "  Building wheel for kb-python (setup.py) ... \u001b[?25l\u001b[?25hdone\n",
            "  Building wheel for loompy (setup.py) ... \u001b[?25l\u001b[?25hdone\n",
            "  Building wheel for ngs-tools (setup.py) ... \u001b[?25l\u001b[?25hdone\n",
            "  Building wheel for numpy-groupies (setup.py) ... \u001b[?25l\u001b[?25hdone\n",
            "  Building wheel for umap-learn (setup.py) ... \u001b[?25l\u001b[?25hdone\n",
            "  Building wheel for sinfo (setup.py) ... \u001b[?25l\u001b[?25hdone\n",
            "  Building wheel for pynndescent (setup.py) ... \u001b[?25l\u001b[?25hdone\n",
            "\u001b[31mERROR: ngs-tools 1.4.0 has requirement numba>=0.53.1, but you'll have numba 0.51.2 which is incompatible.\u001b[0m\n",
            "\u001b[31mERROR: ngs-tools 1.4.0 has requirement tqdm>=4.50.0, but you'll have tqdm 4.41.1 which is incompatible.\u001b[0m\n"
          ],
          "name": "stdout"
        }
      ]
    },
    {
      "cell_type": "code",
      "metadata": {
        "id": "0f22b576-ed9e-4c0e-8c9b-fbf20ee8944c"
      },
      "source": [
        "from kb_python.utils import import_matrix_as_anndata"
      ],
      "id": "0f22b576-ed9e-4c0e-8c9b-fbf20ee8944c",
      "execution_count": 10,
      "outputs": []
    },
    {
      "cell_type": "code",
      "metadata": {
        "id": "44e8acc5-c1e1-4cff-b9a4-afbb79cb359c"
      },
      "source": [
        "adata = import_matrix_as_anndata(\"/content/groupmeeting/kb_out/matrix.mtx\", \"/content/groupmeeting/kb_out/genes.barcodes.txt\", \"/content/groupmeeting/kb_out/genes.genes.txt\")"
      ],
      "id": "44e8acc5-c1e1-4cff-b9a4-afbb79cb359c",
      "execution_count": 11,
      "outputs": []
    },
    {
      "cell_type": "code",
      "metadata": {
        "id": "80aaf28d-456d-4d7a-a9e8-7ddf824018b6",
        "outputId": "9da5e409-4279-4795-d7f5-57df11a5111e",
        "colab": {
          "base_uri": "https://localhost:8080/"
        }
      },
      "source": [
        "adata"
      ],
      "id": "80aaf28d-456d-4d7a-a9e8-7ddf824018b6",
      "execution_count": 12,
      "outputs": [
        {
          "output_type": "execute_result",
          "data": {
            "text/plain": [
              "AnnData object with n_obs × n_vars = 1266268 × 33538"
            ]
          },
          "metadata": {
            "tags": []
          },
          "execution_count": 12
        }
      ]
    },
    {
      "cell_type": "code",
      "metadata": {
        "id": "6c654944-3ae7-4b8b-9ce6-fe4e7258850f",
        "outputId": "c1d6da20-4b60-4176-f64d-23151d1f2069",
        "colab": {
          "base_uri": "https://localhost:8080/"
        }
      },
      "source": [
        "adata.X[0:2].todense().shape"
      ],
      "id": "6c654944-3ae7-4b8b-9ce6-fe4e7258850f",
      "execution_count": 13,
      "outputs": [
        {
          "output_type": "execute_result",
          "data": {
            "text/plain": [
              "(2, 33538)"
            ]
          },
          "metadata": {
            "tags": []
          },
          "execution_count": 13
        }
      ]
    },
    {
      "cell_type": "code",
      "metadata": {
        "id": "e8450b15-1942-4e2b-b68a-3dc696b8f4e2",
        "outputId": "bd1d08d4-7b05-4ebb-b05e-b5c9c4555f2b",
        "colab": {
          "base_uri": "https://localhost:8080/"
        }
      },
      "source": [
        "adata.X.sum(axis=1).shape"
      ],
      "id": "e8450b15-1942-4e2b-b68a-3dc696b8f4e2",
      "execution_count": 14,
      "outputs": [
        {
          "output_type": "execute_result",
          "data": {
            "text/plain": [
              "(1266268, 1)"
            ]
          },
          "metadata": {
            "tags": []
          },
          "execution_count": 14
        }
      ]
    },
    {
      "cell_type": "code",
      "metadata": {
        "id": "42c99fa9-647f-4b11-8990-2c6b985155b9"
      },
      "source": [
        "adata.obs[\"sum_counts\"] = adata.X.sum(axis=1)"
      ],
      "id": "42c99fa9-647f-4b11-8990-2c6b985155b9",
      "execution_count": 15,
      "outputs": []
    },
    {
      "cell_type": "code",
      "metadata": {
        "id": "cf62d327-a0c3-4c1f-8d48-8131a75edc77",
        "outputId": "02786635-7e23-42cc-8dbe-55bfdf0b5b8f",
        "colab": {
          "base_uri": "https://localhost:8080/",
          "height": 450
        }
      },
      "source": [
        "adata.obs"
      ],
      "id": "cf62d327-a0c3-4c1f-8d48-8131a75edc77",
      "execution_count": 16,
      "outputs": [
        {
          "output_type": "execute_result",
          "data": {
            "text/html": [
              "<div>\n",
              "<style scoped>\n",
              "    .dataframe tbody tr th:only-of-type {\n",
              "        vertical-align: middle;\n",
              "    }\n",
              "\n",
              "    .dataframe tbody tr th {\n",
              "        vertical-align: top;\n",
              "    }\n",
              "\n",
              "    .dataframe thead th {\n",
              "        text-align: right;\n",
              "    }\n",
              "</style>\n",
              "<table border=\"1\" class=\"dataframe\">\n",
              "  <thead>\n",
              "    <tr style=\"text-align: right;\">\n",
              "      <th></th>\n",
              "      <th>sum_counts</th>\n",
              "    </tr>\n",
              "    <tr>\n",
              "      <th>barcode</th>\n",
              "      <th></th>\n",
              "    </tr>\n",
              "  </thead>\n",
              "  <tbody>\n",
              "    <tr>\n",
              "      <th>AAACCCAAGAAACACT</th>\n",
              "      <td>1.0</td>\n",
              "    </tr>\n",
              "    <tr>\n",
              "      <th>AAACCCAAGAAACCAT</th>\n",
              "      <td>1.0</td>\n",
              "    </tr>\n",
              "    <tr>\n",
              "      <th>AAACCCAAGAAACCCG</th>\n",
              "      <td>1.0</td>\n",
              "    </tr>\n",
              "    <tr>\n",
              "      <th>AAACCCAAGAAACTAC</th>\n",
              "      <td>1.0</td>\n",
              "    </tr>\n",
              "    <tr>\n",
              "      <th>AAACCCAAGAAACTCA</th>\n",
              "      <td>73.0</td>\n",
              "    </tr>\n",
              "    <tr>\n",
              "      <th>...</th>\n",
              "      <td>...</td>\n",
              "    </tr>\n",
              "    <tr>\n",
              "      <th>TTTGTTGTCTTGGATG</th>\n",
              "      <td>1.0</td>\n",
              "    </tr>\n",
              "    <tr>\n",
              "      <th>TTTGTTGTCTTGGTCC</th>\n",
              "      <td>1.0</td>\n",
              "    </tr>\n",
              "    <tr>\n",
              "      <th>TTTGTTGTCTTTACAC</th>\n",
              "      <td>1.0</td>\n",
              "    </tr>\n",
              "    <tr>\n",
              "      <th>TTTGTTGTCTTTGCGC</th>\n",
              "      <td>20.0</td>\n",
              "    </tr>\n",
              "    <tr>\n",
              "      <th>TTTGTTGTCTTTGCTA</th>\n",
              "      <td>1.0</td>\n",
              "    </tr>\n",
              "  </tbody>\n",
              "</table>\n",
              "<p>1266268 rows × 1 columns</p>\n",
              "</div>"
            ],
            "text/plain": [
              "                  sum_counts\n",
              "barcode                     \n",
              "AAACCCAAGAAACACT         1.0\n",
              "AAACCCAAGAAACCAT         1.0\n",
              "AAACCCAAGAAACCCG         1.0\n",
              "AAACCCAAGAAACTAC         1.0\n",
              "AAACCCAAGAAACTCA        73.0\n",
              "...                      ...\n",
              "TTTGTTGTCTTGGATG         1.0\n",
              "TTTGTTGTCTTGGTCC         1.0\n",
              "TTTGTTGTCTTTACAC         1.0\n",
              "TTTGTTGTCTTTGCGC        20.0\n",
              "TTTGTTGTCTTTGCTA         1.0\n",
              "\n",
              "[1266268 rows x 1 columns]"
            ]
          },
          "metadata": {
            "tags": []
          },
          "execution_count": 16
        }
      ]
    },
    {
      "cell_type": "code",
      "metadata": {
        "id": "f3bf117b-adf9-4a6b-abb0-6dc35b4af5cc"
      },
      "source": [
        "new_adata = adata[(adata.obs.sum_counts>10).values]"
      ],
      "id": "f3bf117b-adf9-4a6b-abb0-6dc35b4af5cc",
      "execution_count": null,
      "outputs": []
    },
    {
      "cell_type": "code",
      "metadata": {
        "id": "f5c14b80-ee47-4768-a0d5-e2935e0f975f",
        "outputId": "00e47789-445a-4d00-e880-a5086783dde1"
      },
      "source": [
        "new_adata"
      ],
      "id": "f5c14b80-ee47-4768-a0d5-e2935e0f975f",
      "execution_count": null,
      "outputs": [
        {
          "output_type": "execute_result",
          "data": {
            "text/plain": [
              "View of AnnData object with n_obs × n_vars = 114924 × 33538\n",
              "    obs: 'sum_counts'"
            ]
          },
          "metadata": {
            "tags": []
          },
          "execution_count": 19
        }
      ]
    }
  ]
}